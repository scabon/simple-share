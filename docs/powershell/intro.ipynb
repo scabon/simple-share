{
 "cells": [
  {
   "attachments": {},
   "cell_type": "markdown",
   "metadata": {},
   "source": [
    "# Introduction to notebooks\n",
    "\n",
    "> ToDo: how to setup VSCode for PowerShell notebooks"
   ]
  },
  {
   "cell_type": "code",
   "execution_count": 4,
   "metadata": {},
   "outputs": [
    {
     "name": "stdout",
     "output_type": "stream",
     "text": [
      "Hello Notebook\n"
     ]
    }
   ],
   "source": [
    "Write-Host 'Hello Notebook'"
   ]
  }
 ],
 "metadata": {
  "kernelspec": {
   "display_name": "PowerShell",
   "language": "powershell",
   "name": "powershell"
  },
  "language_info": {
   "codemirror_mode": "shell",
   "file_extension": ".ps1",
   "mimetype": "text/x-sh",
   "name": "powershell"
  },
  "orig_nbformat": 4,
  "vscode": {
   "interpreter": {
    "hash": "ccb8a1b25c1d6c28d904d119f9174cd0ca60bec4f1afa90ff33d092fe07500ab"
   }
  }
 },
 "nbformat": 4,
 "nbformat_minor": 2
}
